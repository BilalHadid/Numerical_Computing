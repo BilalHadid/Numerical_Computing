{
 "cells": [
  {
   "cell_type": "markdown",
   "metadata": {},
   "source": [
    "# <center>Simpson 1/3 Rule<center/>"
   ]
  },
  {
   "cell_type": "code",
   "execution_count": 1,
   "metadata": {},
   "outputs": [],
   "source": [
    "import math as m "
   ]
  },
  {
   "cell_type": "code",
   "execution_count": 2,
   "metadata": {},
   "outputs": [],
   "source": [
    "def f(x):\n",
    "    return m.log(x)"
   ]
  },
  {
   "cell_type": "code",
   "execution_count": 14,
   "metadata": {},
   "outputs": [
    {
     "name": "stdout",
     "output_type": "stream",
     "text": [
      "4.0      4.2      4.4      4.6      4.8      5.0      5.2      \n",
      "1.3863   1.4351   1.4816   1.5261   1.5686   1.6094   1.6487   \n",
      "\n",
      "Result is 1.8278\n"
     ]
    }
   ],
   "source": [
    "def simpson_rule(ll,ul,n):\n",
    "    h = (ul - ll) / n\n",
    "    \n",
    "    x = list()\n",
    "    fx= list()\n",
    "    \n",
    "    i = 0\n",
    "    while i<=n:\n",
    "        x.append(ll + h* i)\n",
    "        fx.append(f(x[i]))\n",
    "        i+=1\n",
    "    for i in range(7):\n",
    "        print(x[i],end='      ')\n",
    "    print()\n",
    "    for i in range(7):\n",
    "        print('%.4f'%fx[i] , end='   ')\n",
    "        \n",
    "    res = 0\n",
    "    i = 0\n",
    "    while i<= n: \n",
    "        if i == 0 or i == n: \n",
    "            res+= fx[i] \n",
    "        elif i % 2 != 0: \n",
    "            res+= 4 * fx[i] \n",
    "        else: \n",
    "            res+= 2 * fx[i] \n",
    "        i+= 1\n",
    "    res = res * (h / 3) \n",
    "    return res\n",
    "\n",
    "    \n",
    "   \n",
    "    \n",
    "    \n",
    "lower_limit = 4;\n",
    "upper_limit = 5.2;\n",
    "n = 6\n",
    "result = simpson_rule(lower_limit,upper_limit,n)\n",
    "print('\\n\\nResult is %.4f'% result)"
   ]
  },
  {
   "cell_type": "code",
   "execution_count": null,
   "metadata": {},
   "outputs": [],
   "source": []
  }
 ],
 "metadata": {
  "kernelspec": {
   "display_name": "Python 3",
   "language": "python",
   "name": "python3"
  },
  "language_info": {
   "codemirror_mode": {
    "name": "ipython",
    "version": 3
   },
   "file_extension": ".py",
   "mimetype": "text/x-python",
   "name": "python",
   "nbconvert_exporter": "python",
   "pygments_lexer": "ipython3",
   "version": "3.7.3"
  }
 },
 "nbformat": 4,
 "nbformat_minor": 2
}
