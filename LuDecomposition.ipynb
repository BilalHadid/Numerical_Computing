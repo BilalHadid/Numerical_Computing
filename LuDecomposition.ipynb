{
 "cells": [
  {
   "cell_type": "code",
   "execution_count": 19,
   "metadata": {},
   "outputs": [
    {
     "name": "stdout",
     "output_type": "stream",
     "text": [
      "Lower Triangular\t\tUpper Triangular\n",
      "1\t0\t0\t\t1\t1\t1\t\n",
      "1\t1\t0\t\t0\t1\t-2\t\n",
      "1\t-2\t1\t\t0\t0\t-6\t\n"
     ]
    }
   ],
   "source": [
    "MAX = 100; \n",
    "  \n",
    "def luDecomposition(mat, n): \n",
    "  \n",
    "    lower = [[0 for x in range(n)]  \n",
    "                for y in range(n)]; \n",
    "    upper = [[0 for x in range(n)]  \n",
    "                for y in range(n)]; \n",
    "                  \n",
    "    \n",
    "    for i in range(n): \n",
    "  \n",
    "        \n",
    "        for k in range(i, n):  \n",
    "  \n",
    "            \n",
    "            sum = 0; \n",
    "            for j in range(i): \n",
    "                sum += (lower[i][j] * upper[j][k]); \n",
    "  \n",
    "            \n",
    "            upper[i][k] = mat[i][k] - sum; \n",
    "  \n",
    "         \n",
    "        for k in range(i, n): \n",
    "            if (i == k): \n",
    "                lower[i][i] = 1; \n",
    "            else: \n",
    "  \n",
    "                 \n",
    "                sum = 0; \n",
    "                for j in range(i): \n",
    "                    sum += (lower[k][j] * upper[j][i]); \n",
    "  \n",
    "                 \n",
    "                lower[k][i] = int((mat[k][i] - sum) /\n",
    "                                       upper[i][i]); \n",
    "  \n",
    "     \n",
    "    print(\"Lower Triangular\\t\\tUpper Triangular\"); \n",
    "  \n",
    "     \n",
    "    for i in range(n): \n",
    "          \n",
    "       \n",
    "        for j in range(n): \n",
    "            print(lower[i][j], end = \"\\t\");  \n",
    "        print(\"\", end = \"\\t\"); \n",
    "  \n",
    "        \n",
    "        for j in range(n): \n",
    "            print(upper[i][j], end = \"\\t\"); \n",
    "        print(\"\"); \n",
    "  \n",
    "\n",
    "mat = [[1, 1, 1], \n",
    "       [1, 2, -1], \n",
    "       [1, -1, -1]]; \n",
    "  \n",
    "luDecomposition(mat, 3); "
   ]
  },
  {
   "cell_type": "code",
   "execution_count": null,
   "metadata": {},
   "outputs": [],
   "source": []
  }
 ],
 "metadata": {
  "kernelspec": {
   "display_name": "Python 3",
   "language": "python",
   "name": "python3"
  },
  "language_info": {
   "codemirror_mode": {
    "name": "ipython",
    "version": 3
   },
   "file_extension": ".py",
   "mimetype": "text/x-python",
   "name": "python",
   "nbconvert_exporter": "python",
   "pygments_lexer": "ipython3",
   "version": "3.7.3"
  }
 },
 "nbformat": 4,
 "nbformat_minor": 2
}
