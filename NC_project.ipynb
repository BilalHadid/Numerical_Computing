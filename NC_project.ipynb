{
 "cells": [
  {
   "cell_type": "code",
   "execution_count": 2,
   "metadata": {},
   "outputs": [
    {
     "name": "stdout",
     "output_type": "stream",
     "text": [
      "Please wait\n",
      "Iteration is finished\n"
     ]
    },
    {
     "data": {
      "text/plain": [
       "<matplotlib.colorbar.Colorbar at 0x263219f9048>"
      ]
     },
     "execution_count": 2,
     "metadata": {},
     "output_type": "execute_result"
    },
    {
     "data": {
      "image/png": "[encoded data removed]",
      "text/plain": [
       "<Figure size 432x288 with 2 Axes>"
      ]
     },
     "metadata": {
      "needs_background": "light"
     },
     "output_type": "display_data"
    }
   ],
   "source": [
    "import numpy as np\n",
    "import matplotlib.pyplot as plt\n",
    "\n",
    "maxIter = 100\n",
    "\n",
    "lenX = lenY = 100\n",
    "delta = 1\n",
    "\n",
    "Ttop = 0\n",
    "Tbottom = 50\n",
    "Tleft = 0\n",
    "Tright = 0\n",
    "\n",
    "Tguess = 40\n",
    "\n",
    "colorinterpolation = 20\n",
    "colourMap = plt.cm.jet\n",
    "\n",
    "X, Y = np.meshgrid(np.arange(0,lenX), np.arange(0,lenY))\n",
    "\n",
    "T = np.empty((lenX,lenY))\n",
    "T.fill(Tguess)\n",
    "\n",
    "T[(lenY-1):, :] = Ttop\n",
    "T[:1, :] = Tbottom\n",
    "T[:, (lenX-1):] = Tright\n",
    "T[:, :1] = Tleft\n",
    "\n",
    "print(\"Please wait\")\n",
    "\n",
    "for iteration in range(0,maxIter):\n",
    "    for i in range(1, lenX-1,delta):\n",
    "        for j in range(1, lenY-1,delta):\n",
    "            T[i, j] = 0.25 * (T[i+1][j] + T[i-1][j] + T[i][j+1] + T[i][j-1])\n",
    "\n",
    "print(\"Iteration is finished\")\n",
    "\n",
    "plt.title(\"Contour of temperature\")\n",
    "plt.contourf(X, Y, T, colorinterpolation, cmap=colourMap)\n",
    "\n",
    "plt.colorbar()"
   ]
  },
  {
   "cell_type": "code",
   "execution_count": null,
   "metadata": {},
   "outputs": [],
   "source": []
  }
 ],
 "metadata": {
  "kernelspec": {
   "display_name": "Python 3",
   "language": "python",
   "name": "python3"
  },
  "language_info": {
   "codemirror_mode": {
    "name": "ipython",
    "version": 3
   },
   "file_extension": ".py",
   "mimetype": "text/x-python",
   "name": "python",
   "nbconvert_exporter": "python",
   "pygments_lexer": "ipython3",
   "version": "3.7.3"
  }
 },
 "nbformat": 4,
 "nbformat_minor": 2
}
