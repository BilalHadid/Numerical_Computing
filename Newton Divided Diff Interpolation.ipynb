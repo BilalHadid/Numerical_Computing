{
 "cells": [
  {
   "cell_type": "markdown",
   "metadata": {},
   "source": [
    "# Newton Divided Difference"
   ]
  },
  {
   "cell_type": "code",
   "execution_count": 7,
   "metadata": {},
   "outputs": [],
   "source": [
    "def proterm(i, value, x): \n",
    "    pro = 1; \n",
    "    for j in range(i): \n",
    "        pro = pro * (value - x[j]); \n",
    "    return pro;"
   ]
  },
  {
   "cell_type": "code",
   "execution_count": 8,
   "metadata": {},
   "outputs": [],
   "source": [
    "\n",
    "# Function for calculating \n",
    "# divided difference table \n",
    "def dividedDiffTable(x, y, n): \n",
    "\n",
    "    for i in range(1, n): \n",
    "        for j in range(n - i): \n",
    "            y[j][i] = ((y[j][i - 1] - y[j + 1][i - 1]) /  (x[j] - x[i + j])); \n",
    "    return y;"
   ]
  },
  {
   "cell_type": "code",
   "execution_count": 9,
   "metadata": {},
   "outputs": [],
   "source": [
    "# Function for applying Newtons \n",
    "# divided difference formula \n",
    "def applyFormula(value, x, y, n): \n",
    "\n",
    "    sum = y[0][0]; \n",
    "\n",
    "    for i in range(1, n): \n",
    "        sum = sum + (proterm(i, value, x) * y[0][i]); \n",
    "\n",
    "    return sum;"
   ]
  },
  {
   "cell_type": "code",
   "execution_count": 10,
   "metadata": {},
   "outputs": [],
   "source": [
    "# Function for displaying divided \n",
    "# difference table \n",
    "def printDiffTable(y, n): \n",
    "\n",
    "    for i in range(n): \n",
    "        for j in range(n - i): \n",
    "            print(round(y[i][j], 4), \"\\t\", \n",
    "                            end = \" \"); \n",
    "\n",
    "        print(\"\");"
   ]
  },
  {
   "cell_type": "code",
   "execution_count": 11,
   "metadata": {},
   "outputs": [],
   "source": [
    "n = 4; \n",
    "y = [[0 for i in range(10)] for j in range(10)]; \n",
    "x = [ 5, 6, 9, 11 ]; \n",
    "\n",
    "# y[][] is used for divided difference \n",
    "# table where y[][0] is used for input \n",
    "y[0][0] = 12; \n",
    "y[1][0] = 13; \n",
    "y[2][0] = 14; \n",
    "y[3][0] = 16; \n",
    "\n"
   ]
  },
  {
   "cell_type": "code",
   "execution_count": 12,
   "metadata": {},
   "outputs": [
    {
     "name": "stdout",
     "output_type": "stream",
     "text": [
      "12 \t 1.0 \t -0.1667 \t 0.05 \t \n",
      "13 \t 0.3333 \t 0.1333 \t \n",
      "14 \t 1.0 \t \n",
      "16 \t \n",
      "\n",
      "Value at 7 is 13.47\n"
     ]
    }
   ],
   "source": [
    "# calculating divided difference table \n",
    "y=dividedDiffTable(x, y, n); \n",
    "\n",
    "# displaying divided difference table \n",
    "printDiffTable(y, n); \n",
    "\n",
    "# value to be interpolated \n",
    "value = 7; \n",
    "\n",
    "# printing the value \n",
    "print(\"\\nValue at\", value, \"is\",round(applyFormula(value, x, y, n), 2)) "
   ]
  },
  {
   "cell_type": "code",
   "execution_count": null,
   "metadata": {},
   "outputs": [],
   "source": []
  }
 ],
 "metadata": {
  "kernelspec": {
   "display_name": "Python 3",
   "language": "python",
   "name": "python3"
  },
  "language_info": {
   "codemirror_mode": {
    "name": "ipython",
    "version": 3
   },
   "file_extension": ".py",
   "mimetype": "text/x-python",
   "name": "python",
   "nbconvert_exporter": "python",
   "pygments_lexer": "ipython3",
   "version": "3.7.3"
  }
 },
 "nbformat": 4,
 "nbformat_minor": 2
}
