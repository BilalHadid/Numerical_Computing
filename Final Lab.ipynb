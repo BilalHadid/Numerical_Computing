{
 "cells": [
  {
   "cell_type": "markdown",
   "metadata": {},
   "source": [
    "# Question No. 01"
   ]
  },
  {
   "cell_type": "code",
   "execution_count": 19,
   "metadata": {},
   "outputs": [
    {
     "name": "stdout",
     "output_type": "stream",
     "text": [
      "value y1 2\n",
      " y2 value 5\n",
      " y3 value 8\n",
      " y5 value 9\n",
      "19.974092192542123\n"
     ]
    }
   ],
   "source": [
    "y1 = int(input(\"value y1 \"))\n",
    "y2 = int(input(\" y2 value \"))\n",
    "y3 = int(input(\" y3 value \"))\n",
    "y5 = int(input(\" y5 value \"))\n",
    "avg = (y1+y2+y3+y5)\n",
    "micro = avg / 4\n",
    "y4 = 2*y5 + y1 - (micro*(y1+micro-1))/(y2**2 + y3**2 +(y1 + micro -1)**2)**1.5 \n",
    "print(y4)"
   ]
  },
  {
   "cell_type": "markdown",
   "metadata": {},
   "source": [
    "# Question No. 02\n"
   ]
  },
  {
   "cell_type": "code",
   "execution_count": 25,
   "metadata": {},
   "outputs": [
    {
     "name": "stdout",
     "output_type": "stream",
     "text": [
      " root is 0.8662271322848238\n",
      "Iteration is 7\n"
     ]
    }
   ],
   "source": [
    "import numpy as np\n",
    "def func( x ): \n",
    "    return np.cos(x) - x**3\n",
    "  \n",
    "\n",
    "def derivFunc( x ): \n",
    "    return 3 * x * x - 2 * x \n",
    "  \n",
    "\n",
    "def newtonRaphson( x ): \n",
    "    h = func(x) / derivFunc(x) \n",
    "    while abs(h) >= 0.0001: \n",
    "        h = func(x)/derivFunc(x) \n",
    "          \n",
    "        \n",
    "        x = x - h \n",
    "      \n",
    "    print(\"The value of the root is : \", \n",
    "                             \"%.4f\"% x) \n",
    "  \n",
    "x0 = -20\n",
    "newtonRaphson(x0) \n",
    "  "
   ]
  },
  {
   "cell_type": "markdown",
   "metadata": {},
   "source": [
    "# Question 03\n"
   ]
  },
  {
   "cell_type": "code",
   "execution_count": 27,
   "metadata": {},
   "outputs": [
    {
     "name": "stdout",
     "output_type": "stream",
     "text": [
      "[0, 0, 0]\n",
      "[1.0, 2.0, -1.0]\n"
     ]
    }
   ],
   "source": [
    "def seidtal(a, x ,b): \n",
    "            \n",
    "    n = len(a)                    \n",
    "    for j in range(0, n):         \n",
    "        d = b[j]                   \n",
    "          \n",
    "        for i in range(0, n):      \n",
    "            if(j != i): \n",
    "                d-=a[j][i] * x[i] \n",
    "        x[j] = d / a[j][j] \n",
    "    return x     \n",
    "   \n",
    "n = 3                              \n",
    "a = []                             \n",
    "b = []         \n",
    "                      \n",
    "x = [0, 0, 0]                         \n",
    "a = [[4, -1, -1],[-2, 6, 1],[-1, 1, 7]] \n",
    "b = [3,9,-6] \n",
    "print(x) \n",
    "  \n",
    " \n",
    "for i in range(0, 25):             \n",
    "    x = seidel(a, x, b) \n",
    "\n",
    "print(x)    "
   ]
  },
  {
   "cell_type": "markdown",
   "metadata": {},
   "source": [
    "# Question No.04\n"
   ]
  },
  {
   "cell_type": "code",
   "execution_count": 29,
   "metadata": {},
   "outputs": [
    {
     "name": "stdout",
     "output_type": "stream",
     "text": [
      "0 value of y is => 0.7777777777777778\n",
      "0 value of y is => 8.944444444444446\n",
      "0 value of y is => 5.094444444444446\n",
      "0 value of y is => 6.0388888888888905\n"
     ]
    }
   ],
   "source": [
    "x = [-2,1,3,7]\n",
    "y = [5,7,11,34]\n",
    "x0 \n",
    "yp = 0\n",
    "for i in range(len(x)):\n",
    "    p = 1\n",
    "    for j in range(len(x)):\n",
    "        if(i!=j):\n",
    "            p=p*((xp-x[j]))/(x[i]-x[j])\n",
    "    yp = yp + (y[i]*p)\n",
    "    print(xp,'value of y is =>',yp)"
   ]
  },
  {
   "cell_type": "code",
   "execution_count": null,
   "metadata": {},
   "outputs": [],
   "source": []
  }
 ],
 "metadata": {
  "kernelspec": {
   "display_name": "Python 3",
   "language": "python",
   "name": "python3"
  },
  "language_info": {
   "codemirror_mode": {
    "name": "ipython",
    "version": 3
   },
   "file_extension": ".py",
   "mimetype": "text/x-python",
   "name": "python",
   "nbconvert_exporter": "python",
   "pygments_lexer": "ipython3",
   "version": "3.7.3"
  }
 },
 "nbformat": 4,
 "nbformat_minor": 2
}
